{
 "cells": [
  {
   "cell_type": "markdown",
   "metadata": {},
   "source": [
    "# LANL-Earthquake-Prediction based on FFT features"
   ]
  },
  {
   "cell_type": "markdown",
   "metadata": {},
   "source": [
    "* [1. Introduction](#section1)\n",
    "* [2. Initial Setup](#section2)\n",
    "* [3. Features Set EDA](#section3)"
   ]
  },
  {
   "cell_type": "markdown",
   "metadata": {},
   "source": [
    "<a id='section1'></a>\n",
    "## 1. Introduction"
   ]
  },
  {
   "cell_type": "markdown",
   "metadata": {},
   "source": [
    "<a id='section2'></a>\n",
    "## 2. Initial Setup"
   ]
  },
  {
   "cell_type": "code",
   "execution_count": null,
   "metadata": {},
   "outputs": [],
   "source": [
    "import numpy as np \n",
    "import pandas as pd\n",
    "import os\n",
    "\n",
    "import matplotlib.pyplot as plt\n",
    "%matplotlib inline\n",
    "from matplotlib import style\n",
    "style.use('ggplot')\n",
    "\n",
    "import seaborn as sns\n",
    "sns.set()\n",
    "\n",
    "from IPython.display import HTML\n",
    "display(HTML(\"<style>.container { width:98% !important; }</style>\"))\n",
    "\n",
    "import timeit\n",
    "from tqdm import tqdm\n",
    "\n",
    "from ipywidgets import interact\n",
    "import ipywidgets as widgets\n",
    "\n",
    "from scipy import fftpack\n",
    "\n",
    "from os import listdir\n",
    "print(listdir(\"../features\"))"
   ]
  },
  {
   "cell_type": "markdown",
   "metadata": {},
   "source": [
    "<a id='section3'></a>\n",
    "## 3. Features Set EDA"
   ]
  },
  {
   "cell_type": "code",
   "execution_count": null,
   "metadata": {},
   "outputs": [],
   "source": [
    "from glob import glob"
   ]
  },
  {
   "cell_type": "code",
   "execution_count": null,
   "metadata": {},
   "outputs": [],
   "source": [
    "filter_type = '2048'"
   ]
  },
  {
   "cell_type": "code",
   "execution_count": null,
   "metadata": {},
   "outputs": [],
   "source": [
    "#features_files = listdir(\"../features\")\n",
    "features_files = glob(\"../features/*{}.csv\".format(filter_type))\n",
    "features_files[:5]"
   ]
  },
  {
   "cell_type": "code",
   "execution_count": null,
   "metadata": {},
   "outputs": [],
   "source": [
    "def show_features_data_by_index(idx):\n",
    "    the_file_name = sorted(features_files)[idx]\n",
    "    print(the_file_name)\n",
    "    df = pd.read_csv(os.path.join(\"../features\",the_file_name)).drop(labels=['Unnamed: 0'],axis=1)\n",
    "    if not ('test' in the_file_name):\n",
    "        df.columns = list(df.columns[:-1])+['ttf']\n",
    "    display(df.head())"
   ]
  },
  {
   "cell_type": "code",
   "execution_count": null,
   "metadata": {},
   "outputs": [],
   "source": [
    "interact(show_features_data_by_index, idx=widgets.IntSlider(min=0,max=len(features_files)-1,step=1,value=0));"
   ]
  },
  {
   "cell_type": "code",
   "execution_count": null,
   "metadata": {},
   "outputs": [],
   "source": [
    "from sklearn.ensemble import RandomForestRegressor\n",
    "from sklearn.metrics import mean_absolute_error\n",
    "#from sklearn.model_selection import train_test_split\n",
    "from sklearn.tree import DecisionTreeRegressor\n",
    "#from sklearn.preprocessing import Imputer\n",
    "from xgboost import XGBRegressor"
   ]
  },
  {
   "cell_type": "code",
   "execution_count": null,
   "metadata": {},
   "outputs": [],
   "source": [
    "my_XGB_model = XGBRegressor()"
   ]
  },
  {
   "cell_type": "code",
   "execution_count": null,
   "metadata": {},
   "outputs": [],
   "source": [
    "idx=1\n",
    "the_file_name = sorted(features_files)[idx]\n",
    "df = pd.read_csv(os.path.join(\"../features\",the_file_name)).drop(labels=['Unnamed: 0'],axis=1)"
   ]
  },
  {
   "cell_type": "code",
   "execution_count": null,
   "metadata": {},
   "outputs": [],
   "source": [
    "train_concat_df = pd.DataFrame()\n",
    "valid_concat_df = pd.DataFrame()"
   ]
  },
  {
   "cell_type": "code",
   "execution_count": null,
   "metadata": {},
   "outputs": [],
   "source": [
    "for idx in range(len(features_files)):\n",
    "    the_file_name = sorted(features_files)[idx]\n",
    "    if idx < 13 and (not ('test' in the_file_name)):\n",
    "        df = pd.read_csv(os.path.join(\"../features\",the_file_name)).drop(labels=['Unnamed: 0'],axis=1)\n",
    "        train_concat_df = train_concat_df.append(df)\n",
    "    elif not ('test' in the_file_name):\n",
    "        df = pd.read_csv(os.path.join(\"../features\",the_file_name)).drop(labels=['Unnamed: 0'],axis=1)\n",
    "        valid_concat_df = train_concat_df.append(df)"
   ]
  },
  {
   "cell_type": "code",
   "execution_count": null,
   "metadata": {},
   "outputs": [],
   "source": [
    "train_X=train_concat_df.drop(labels=[filter_type],axis=1)\n",
    "train_y=train_concat_df[filter_type]"
   ]
  },
  {
   "cell_type": "code",
   "execution_count": null,
   "metadata": {},
   "outputs": [],
   "source": [
    "start_time = timeit.default_timer()\n",
    "my_XGB_model.fit(train_X, train_y, verbose=True)\n",
    "print('elapsed time: {:.2f} sec'.format(timeit.default_timer()-start_time))    "
   ]
  },
  {
   "cell_type": "code",
   "execution_count": null,
   "metadata": {},
   "outputs": [],
   "source": [
    "valid_X=valid_concat_df.drop(labels=[filter_type],axis=1)\n",
    "valid_y=valid_concat_df[filter_type]"
   ]
  },
  {
   "cell_type": "code",
   "execution_count": null,
   "metadata": {},
   "outputs": [],
   "source": [
    "XGB_predictions = my_XGB_model.predict(valid_X)\n",
    "#XGB_predictions = np.exp(XGB_predictions)"
   ]
  },
  {
   "cell_type": "code",
   "execution_count": null,
   "metadata": {},
   "outputs": [],
   "source": [
    "XGB_mae = mean_absolute_error(XGB_predictions, valid_y)\n",
    "print(\"Validation MAE for XGBoost Model : \" + str(XGB_mae))"
   ]
  },
  {
   "cell_type": "code",
   "execution_count": null,
   "metadata": {},
   "outputs": [],
   "source": [
    "{\n",
    "32:{'MAE': 2.851, 'elapsed time': 24.7}, \n",
    "128:{'MAE': 2.61466, 'elapsed time': 95.85},\n",
    "1024: {'MAE': 2.527, 'elapsed time': 758},\n",
    "2048:{'MAE': 2.527, 'elapsed time': 1515}\n",
    "}"
   ]
  },
  {
   "cell_type": "code",
   "execution_count": null,
   "metadata": {},
   "outputs": [],
   "source": []
  }
 ],
 "metadata": {
  "kernelspec": {
   "display_name": "Python 3",
   "language": "python",
   "name": "python3"
  },
  "language_info": {
   "codemirror_mode": {
    "name": "ipython",
    "version": 3
   },
   "file_extension": ".py",
   "mimetype": "text/x-python",
   "name": "python",
   "nbconvert_exporter": "python",
   "pygments_lexer": "ipython3",
   "version": "3.6.5"
  }
 },
 "nbformat": 4,
 "nbformat_minor": 2
}
